{
 "cells": [
  {
   "cell_type": "markdown",
   "metadata": {},
   "source": [
    "# NPTEL - Programming, data structures and algorithms using python"
   ]
  },
  {
   "cell_type": "markdown",
   "metadata": {},
   "source": [
    "### Algorithms, Programming \n",
    "- Algorithm: how to systematically peform a task\n",
    "- Write down as a sequence of steps\n",
    "  - Recipe, or program\n",
    "- Programming language describe the steps\n",
    "\n",
    "- Alogorithms that manipulate information\n",
    "  - Compute numerical functions - f(x,y) = x^y\n",
    "  - Reorganize data\n",
    "  - Optimization\n",
    "\n",
    "### Greatest Common Divisor\n",
    "\n",
    "\n",
    "gcd(m,n)\n",
    "\n",
    "\n",
    "Largest k such that k divides m and k divides n"
   ]
  },
  {
   "cell_type": "code",
   "execution_count": 38,
   "metadata": {
    "collapsed": true
   },
   "outputs": [],
   "source": [
    "def gcd(m,n):\n",
    "    fm = []\n",
    "    for i in range(1,m+1):\n",
    "        if (m%i) == 0:\n",
    "            fm.append(i)\n",
    "    fn = []\n",
    "    for j in range(1,n+1):\n",
    "        if(n%i) == 0:\n",
    "            fn.append(i)\n",
    "    cf = []\n",
    "    for f in fm:\n",
    "        if f in fn:\n",
    "            cf.append(f)\n",
    "    return(cf[-1])"
   ]
  },
  {
   "cell_type": "code",
   "execution_count": 39,
   "metadata": {},
   "outputs": [
    {
     "data": {
      "text/plain": [
       "22"
      ]
     },
     "execution_count": 39,
     "metadata": {},
     "output_type": "execute_result"
    }
   ],
   "source": [
    "gcd(22,3234)"
   ]
  },
  {
   "cell_type": "code",
   "execution_count": 40,
   "metadata": {},
   "outputs": [],
   "source": [
    "def gcd(m,n):\n",
    "    cf = []\n",
    "    for i in range(1,min(m,n)+1):\n",
    "        if (m%i) == 0 and (n%i) == 0:\n",
    "            cf.append(i)\n",
    "    return(cf[-1])"
   ]
  },
  {
   "cell_type": "code",
   "execution_count": 41,
   "metadata": {},
   "outputs": [
    {
     "data": {
      "text/plain": [
       "44"
      ]
     },
     "execution_count": 41,
     "metadata": {},
     "output_type": "execute_result"
    }
   ],
   "source": [
    "gcd(44,4444)"
   ]
  },
  {
   "cell_type": "code",
   "execution_count": 42,
   "metadata": {
    "collapsed": true
   },
   "outputs": [],
   "source": [
    "## Scan backwards\n",
    "def gcd(m,n):\n",
    "    i = min(m,n)\n",
    "    while i > 0:\n",
    "        if (m%i) == 0 and (n%i) == 0:\n",
    "            return(i)\n",
    "        else:\n",
    "            i = i - 1\n",
    "        "
   ]
  },
  {
   "cell_type": "code",
   "execution_count": 43,
   "metadata": {},
   "outputs": [
    {
     "data": {
      "text/plain": [
       "6"
      ]
     },
     "execution_count": 43,
     "metadata": {},
     "output_type": "execute_result"
    }
   ],
   "source": [
    "gcd(3344334,4324356)"
   ]
  },
  {
   "cell_type": "code",
   "execution_count": 44,
   "metadata": {
    "collapsed": true
   },
   "outputs": [],
   "source": [
    "## Euclid's Algo -- Example of Recurrsion\n",
    "def gcd(m,n):\n",
    "    # Assume m >= n\n",
    "    if m < n:\n",
    "        (m,n) = (n,m)\n",
    "    if (m%n) == 0:\n",
    "        return(n)\n",
    "    else:\n",
    "        diff = m-n\n",
    "        # diff > n? Possible!\n",
    "        return(gcd(max(n,diff),min(n,diff)))\n",
    "        "
   ]
  },
  {
   "cell_type": "code",
   "execution_count": 45,
   "metadata": {},
   "outputs": [
    {
     "data": {
      "text/plain": [
       "6"
      ]
     },
     "execution_count": 45,
     "metadata": {},
     "output_type": "execute_result"
    }
   ],
   "source": [
    "gcd(3344334,4324356)"
   ]
  },
  {
   "cell_type": "code",
   "execution_count": 46,
   "metadata": {
    "collapsed": true
   },
   "outputs": [],
   "source": [
    "## Euclid's Algo -- Actual\n",
    "def gcd(m,n):\n",
    "    # Assume m >= n\n",
    "    if m < n:\n",
    "        (m,n) = (n,m)\n",
    "    if (m%n) == 0:\n",
    "        return(n)\n",
    "    else:\n",
    "        return(gcd(n,m%n)) # m%n < n, always !\n",
    "    \n"
   ]
  },
  {
   "cell_type": "code",
   "execution_count": 47,
   "metadata": {},
   "outputs": [
    {
     "name": "stdout",
     "output_type": "stream",
     "text": [
      "3.0\n",
      "3\n",
      "0\n"
     ]
    }
   ],
   "source": [
    "x = 6/2 #Divsion always retuns float\n",
    "\n",
    "y = 6//2 # Division to returm integer\n",
    "\n",
    "z = 6%2 #to return the remainder\n",
    "\n",
    "print(x)\n",
    "print(y)\n",
    "print(z)"
   ]
  },
  {
   "cell_type": "code",
   "execution_count": 35,
   "metadata": {},
   "outputs": [
    {
     "data": {
      "text/plain": [
       "'lo'"
      ]
     },
     "execution_count": 35,
     "metadata": {},
     "output_type": "execute_result"
    }
   ],
   "source": [
    "## String slicing logi\n",
    "s = \"hello\"\n",
    "s[1:4]\n",
    "s[:4]\n",
    "s[3:]"
   ]
  },
  {
   "cell_type": "markdown",
   "metadata": {},
   "source": [
    "** Strings are Immutable, List are mutable ** "
   ]
  },
  {
   "cell_type": "code",
   "execution_count": 36,
   "metadata": {},
   "outputs": [
    {
     "data": {
      "text/plain": [
       "True"
      ]
     },
     "execution_count": 36,
     "metadata": {},
     "output_type": "execute_result"
    }
   ],
   "source": [
    "## Important difference between String and list\n",
    "h = \"hello\"\n",
    "h[0] == h[0:1] == \"h\"\n",
    "\n",
    "## Whereas in a list , slice of a list is another list\n",
    "\n",
    "factors = [1,2,5,10]\n",
    "\n",
    "factors[0] == 1\n",
    "factors[0:1] == [1]\n"
   ]
  },
  {
   "cell_type": "code",
   "execution_count": 37,
   "metadata": {},
   "outputs": [
    {
     "data": {
      "text/plain": [
       "[1, 2, 5, 10]"
      ]
     },
     "execution_count": 37,
     "metadata": {},
     "output_type": "execute_result"
    }
   ],
   "source": [
    "## to copy is list\n",
    "\n",
    "factors1 = factors[:]\n",
    "factors1\n",
    "\n",
    "## if we do factors1 = factors -- it won't copy it will just point to the same values\n",
    "## to check if a list is copy or just equal use the \"is\" keyword\n",
    "## concatenetion (+) produces a new list"
   ]
  },
  {
   "cell_type": "markdown",
   "metadata": {},
   "source": [
    "**Shortcuts for conditions**\n",
    "- Numeric value 0 is treated as False\n",
    "- Empty sequence \"\", [] is treated as False\n",
    "- Everything else is True"
   ]
  },
  {
   "cell_type": "code",
   "execution_count": 49,
   "metadata": {
    "collapsed": true
   },
   "outputs": [],
   "source": [
    "## Recursion\n",
    "\n",
    "def factorial(n):\n",
    "    if n <= 0:      ## This is the base case to ensure that the function has a graceful exit\n",
    "        return(1)\n",
    "    else:\n",
    "        val = n * factorial(n-1)\n",
    "        return(val)\n"
   ]
  },
  {
   "cell_type": "code",
   "execution_count": 51,
   "metadata": {},
   "outputs": [
    {
     "data": {
      "text/plain": [
       "40320"
      ]
     },
     "execution_count": 51,
     "metadata": {},
     "output_type": "execute_result"
    }
   ],
   "source": [
    "factorial(8)"
   ]
  },
  {
   "cell_type": "code",
   "execution_count": null,
   "metadata": {
    "collapsed": true
   },
   "outputs": [],
   "source": []
  }
 ],
 "metadata": {
  "kernelspec": {
   "display_name": "Python 3",
   "language": "python",
   "name": "python3"
  },
  "language_info": {
   "codemirror_mode": {
    "name": "ipython",
    "version": 3
   },
   "file_extension": ".py",
   "mimetype": "text/x-python",
   "name": "python",
   "nbconvert_exporter": "python",
   "pygments_lexer": "ipython3",
   "version": "3.6.1"
  }
 },
 "nbformat": 4,
 "nbformat_minor": 2
}
